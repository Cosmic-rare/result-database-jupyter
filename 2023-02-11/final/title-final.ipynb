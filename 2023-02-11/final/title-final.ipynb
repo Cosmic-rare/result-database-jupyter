{
 "cells": [
  {
   "cell_type": "code",
   "execution_count": 1,
   "id": "ef357932-d227-4f63-a490-1d3004f018a0",
   "metadata": {
    "tags": []
   },
   "outputs": [],
   "source": [
    "import os\n",
    "from PIL import Image\n",
    "import pyocr\n",
    "import numpy as np\n",
    "import pyocr.builders\n",
    "import matplotlib.pyplot as plt\n",
    "import math\n",
    "import difflib\n",
    "import json"
   ]
  },
  {
   "cell_type": "code",
   "execution_count": 2,
   "id": "4b3ba65a-2546-47d9-bf68-92460e62dea4",
   "metadata": {
    "tags": []
   },
   "outputs": [],
   "source": [
    "# target = \"normal\"\n",
    "# target = \"wide\"\n",
    "target = \"fastlate\""
   ]
  },
  {
   "cell_type": "code",
   "execution_count": 3,
   "id": "a856cda2-4754-4648-998f-d8c896c9469b",
   "metadata": {
    "tags": []
   },
   "outputs": [],
   "source": [
    "path_tesseract = \"C:\\\\Program Files\\\\Tesseract-OCR\"\n",
    "if path_tesseract not in os.environ[\"PATH\"].split(os.pathsep):\n",
    "    os.environ[\"PATH\"] += os.pathsep + path_tesseract\n",
    "\n",
    "tools = pyocr.get_available_tools()\n",
    "tool = tools[0]"
   ]
  },
  {
   "cell_type": "code",
   "execution_count": 4,
   "id": "b3da7492-eebc-408d-87df-85b0c290adfe",
   "metadata": {
    "tags": []
   },
   "outputs": [],
   "source": [
    "img = Image.open(\"./\" + target + \"-target.png\")\n",
    "rgb_img = img.convert('RGB')\n",
    "size = rgb_img.size"
   ]
  },
  {
   "cell_type": "code",
   "execution_count": 5,
   "id": "08d28f3d-c3e8-47d9-9b07-ffcf9e9ec67a",
   "metadata": {
    "tags": []
   },
   "outputs": [],
   "source": [
    "border = 215\n",
    "yuBorder = size[1] / 7\n",
    "xtBorder = size[0] / 2"
   ]
  },
  {
   "cell_type": "code",
   "execution_count": 6,
   "id": "51023a17-d7d1-4be4-8a28-b94f6c8320f8",
   "metadata": {
    "tags": []
   },
   "outputs": [],
   "source": [
    "img2 = Image.new('RGBA',size)\n",
    "\n",
    "# 70-90 70-90 100-120\n",
    "\n",
    "for x in range(size[0]):\n",
    "    for y in range(size[1]):\n",
    "        # この座標の色\n",
    "        r,g,b = rgb_img.getpixel((x,y))\n",
    "                \n",
    "        # 下側の6/7を黒塗り\n",
    "        if y >= yuBorder:\n",
    "            a = 0\n",
    "        # 右半分を黒塗り\n",
    "        elif x >= xtBorder:\n",
    "            a = 0\n",
    "        # 結構明るめなやつ以外をを黒塗り\n",
    "        elif r >= border and g >= border and b >= border:\n",
    "            a = 255\n",
    "        else:\n",
    "            a = 0\n",
    "\n",
    "        img2.putpixel((x,y),(a,a,a,255))"
   ]
  },
  {
   "cell_type": "code",
   "execution_count": 7,
   "id": "ee2cdfbe-6ca1-4117-b228-7fad252c1e75",
   "metadata": {
    "tags": []
   },
   "outputs": [
    {
     "data": {
      "image/png": "[encoded data removed]",
      "text/plain": [
       "<PIL.Image.Image image mode=RGBA size=448x48>"
      ]
     },
     "execution_count": 7,
     "metadata": {},
     "output_type": "execute_result"
    }
   ],
   "source": [
    "crop_range = img2.convert('RGB').getbbox()\n",
    "img3 = img2.crop([crop_range[0],crop_range[1]-5,crop_range[2],(crop_range[3]) / 2])\n",
    "img3"
   ]
  },
  {
   "cell_type": "code",
   "execution_count": 8,
   "id": "5fc387fa-f6ae-4f5e-8beb-c9f5533cd1d1",
   "metadata": {
    "tags": []
   },
   "outputs": [
    {
     "name": "stdout",
     "output_type": "stream",
     "text": [
      "9)\n",
      "\n",
      "と\n",
      "\n",
      "ほくらの16bit戦争\n",
      "軸 てT  ほくらの16bit戦争\n"
     ]
    }
   ],
   "source": [
    "builder11 = pyocr.builders.TextBuilder(tesseract_layout=11)\n",
    "result11 = tool.image_to_string(img3, lang=\"jpn\", builder=builder11)\n",
    "\n",
    "print(result11)\n",
    "\n",
    "builder6 = pyocr.builders.TextBuilder(tesseract_layout=6)\n",
    "result6 = tool.image_to_string(img3, lang=\"jpn\", builder=builder6)\n",
    "\n",
    "print(result6)"
   ]
  },
  {
   "cell_type": "code",
   "execution_count": 18,
   "id": "3212e651-9501-43c8-810f-86c50c021dea",
   "metadata": {
    "tags": []
   },
   "outputs": [],
   "source": [
    "def check (target):\n",
    "    with open('tmp.json', encoding=\"utf-8\") as f1:\n",
    "        music = json.load(f1)\n",
    "\n",
    "        data = []\n",
    "\n",
    "        for j in music:\n",
    "            result = difflib.SequenceMatcher(None, target, j[\"title\"]).ratio()\n",
    "\n",
    "            if result > 0.6:\n",
    "                data.append({\"title\":j[\"title\"], \"result\":result})\n",
    "\n",
    "        return data"
   ]
  },
  {
   "cell_type": "code",
   "execution_count": 20,
   "id": "fa395a43-7251-4fd7-9676-0179046bee9f",
   "metadata": {
    "tags": []
   },
   "outputs": [
    {
     "name": "stdout",
     "output_type": "stream",
     "text": [
      "[{'title': 'ぼくらの16bit戦争', 'result': 0.6896551724137931}]\n",
      "[{'title': 'ぼくらの16bit戦争', 'result': 0.7142857142857143}]\n"
     ]
    }
   ],
   "source": [
    "print(check(result11))\n",
    "\n",
    "print(check(result6))"
   ]
  },
  {
   "cell_type": "raw",
   "id": "231c0e71-7dcb-4b52-896b-3456841ebb16",
   "metadata": {},
   "source": [
    "11 \"プリキノダンス\"\n",
    "6  \"\"\n",
    "\n",
    "11 \"Brand New Day\"\n",
    "6  \"Brand New Day\"\n",
    "\n",
    "11 \"ほくらの16bit戦争\"\n",
    "6  \"軸 てT  ほくらの16bit戦争"
   ]
  }
 ],
 "metadata": {
  "kernelspec": {
   "display_name": "Python 3 (ipykernel)",
   "language": "python",
   "name": "python3"
  },
  "language_info": {
   "codemirror_mode": {
    "name": "ipython",
    "version": 3
   },
   "file_extension": ".py",
   "mimetype": "text/x-python",
   "name": "python",
   "nbconvert_exporter": "python",
   "pygments_lexer": "ipython3",
   "version": "3.10.9"
  }
 },
 "nbformat": 4,
 "nbformat_minor": 5
}
