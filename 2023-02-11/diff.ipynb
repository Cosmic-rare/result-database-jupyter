{
 "cells": [
  {
   "cell_type": "code",
   "execution_count": 2,
   "id": "f6ae8244-642d-43ad-8f5b-2eef1d04be90",
   "metadata": {},
   "outputs": [
    {
     "name": "stdout",
     "output_type": "stream",
     "text": [
      "0.7142857142857143\n",
      "0.9090909090909091\n"
     ]
    }
   ],
   "source": [
    "import difflib\n",
    "\n",
    "text_a = \"ぼくらの16bit戦争\"\n",
    "text_b = \"軸 てT  ほくらの16bit戦争\"\n",
    "text_c = \"ほくらの16bit戦争\"\n",
    "\n",
    "r = difflib.SequenceMatcher(None, text_a, text_b).ratio()\n",
    "print(r)\n",
    "\n",
    "r = difflib.SequenceMatcher(None, text_a, text_c).ratio()\n",
    "print(r)"
   ]
  },
  {
   "cell_type": "raw",
   "id": "c4e43f94-fe47-47d2-86e9-d9da146440e8",
   "metadata": {},
   "source": [
    "https://ssrv.net/tech/python-string-compare/\n",
    "\n",
    "https://siguniang.wordpress.com/2014/10/04/notes-on-ratcliff-obershelp-pattern-recognition/"
   ]
  }
 ],
 "metadata": {
  "kernelspec": {
   "display_name": "Python 3 (ipykernel)",
   "language": "python",
   "name": "python3"
  },
  "language_info": {
   "codemirror_mode": {
    "name": "ipython",
    "version": 3
   },
   "file_extension": ".py",
   "mimetype": "text/x-python",
   "name": "python",
   "nbconvert_exporter": "python",
   "pygments_lexer": "ipython3",
   "version": "3.10.9"
  }
 },
 "nbformat": 4,
 "nbformat_minor": 5
}
