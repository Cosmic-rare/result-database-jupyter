{
 "cells": [
  {
   "cell_type": "code",
   "execution_count": 14,
   "id": "40227444-98e5-4bfb-a811-06b7e716a9e6",
   "metadata": {
    "tags": []
   },
   "outputs": [],
   "source": [
    "import json\n",
    "\n",
    "data = []\n",
    "\n",
    "with open('music.json', encoding=\"utf-8\") as f1:\n",
    "    music = json.load(f1)\n",
    "\n",
    "    for i in music:\n",
    "        data.append({\"id\": i[\"id\"], \"title\": i[\"title\"]})\n",
    "\n",
    "    \n",
    "with open('tmp.json', 'wt', encoding=\"utf-8\") as f2:\n",
    "    json.dump(data, f2)"
   ]
  },
  {
   "cell_type": "code",
   "execution_count": null,
   "id": "a350520b-8f2f-46c4-bc09-61721555edc0",
   "metadata": {},
   "outputs": [],
   "source": []
  }
 ],
 "metadata": {
  "kernelspec": {
   "display_name": "Python 3 (ipykernel)",
   "language": "python",
   "name": "python3"
  },
  "language_info": {
   "codemirror_mode": {
    "name": "ipython",
    "version": 3
   },
   "file_extension": ".py",
   "mimetype": "text/x-python",
   "name": "python",
   "nbconvert_exporter": "python",
   "pygments_lexer": "ipython3",
   "version": "3.10.9"
  }
 },
 "nbformat": 4,
 "nbformat_minor": 5
}
