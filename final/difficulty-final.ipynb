{
 "cells": [
  {
   "cell_type": "code",
   "execution_count": 5,
   "id": "ef357932-d227-4f63-a490-1d3004f018a0",
   "metadata": {
    "tags": []
   },
   "outputs": [],
   "source": [
    "import os\n",
    "from PIL import Image\n",
    "import pyocr\n",
    "import numpy as np\n",
    "import pyocr.builders\n",
    "import matplotlib.pyplot as plt\n",
    "import math\n",
    "import difflib\n",
    "import json\n",
    "import time"
   ]
  },
  {
   "cell_type": "code",
   "execution_count": 149,
   "id": "a856cda2-4754-4648-998f-d8c896c9469b",
   "metadata": {
    "tags": []
   },
   "outputs": [],
   "source": [
    "path_tesseract = \"C:\\\\Program Files\\\\Tesseract-OCR\"\n",
    "if path_tesseract not in os.environ[\"PATH\"].split(os.pathsep):\n",
    "    os.environ[\"PATH\"] += os.pathsep + path_tesseract\n",
    "\n",
    "tools = pyocr.get_available_tools()\n",
    "tool = tools[0]"
   ]
  },
  {
   "cell_type": "code",
   "execution_count": 150,
   "id": "4b3ba65a-2546-47d9-bf68-92460e62dea4",
   "metadata": {
    "tags": []
   },
   "outputs": [],
   "source": [
    "targets = [\"normal\", \"wide\", \"fastlate\"]\n",
    "border = 215\n",
    "target = \"normal\""
   ]
  },
  {
   "cell_type": "code",
   "execution_count": 151,
   "id": "5142fda6-fe8b-4bdb-a92a-a37da7fa05ca",
   "metadata": {
    "tags": []
   },
   "outputs": [],
   "source": [
    "img = Image.open(\"../targets/\" + target + \".png\")\n",
    "\n",
    "\n",
    "rgb_img = img.convert('RGB')\n",
    "size = rgb_img.size\n",
    "\n",
    "crop_img = rgb_img.crop([0, 0, size[0]/2, size[1]/7])\n",
    "crop_size = crop_img.size\n",
    "\n",
    "resize_img = crop_img.resize((math.floor(crop_size[0]/15), math.floor(crop_size[1]/15)))"
   ]
  },
  {
   "cell_type": "code",
   "execution_count": 152,
   "id": "73c07a76-27c7-49ef-8f37-97ff610cda3a",
   "metadata": {
    "tags": []
   },
   "outputs": [],
   "source": [
    "img2 = Image.new('RGBA',crop_size)\n",
    "\n",
    "for x in range(crop_size[0]):\n",
    "    for y in range(crop_size[1]):\n",
    "        r,g,b = crop_img.getpixel((x,y))\n",
    "\n",
    "        if 94<r<175 and 179<g<255 and 28<b<108:\n",
    "            a = 0\n",
    "        elif 54<r<134 and 144<g<224 and 192<b<255:\n",
    "            a = 0\n",
    "        elif 204<r<255 and 135<g<215 and 21<b< 101:\n",
    "            a = 0\n",
    "        elif 180<r<255 and 42<g<122 and 64<b<144:\n",
    "            a = 0\n",
    "        elif 132<r<212 and 22<g<102 and 190<b<255:\n",
    "            a = 0\n",
    "        else:\n",
    "            a = 255\n",
    "        \n",
    "        img2.putpixel((x,y),(a,a,a,255))"
   ]
  },
  {
   "cell_type": "code",
   "execution_count": 153,
   "id": "e7cd42ae-138c-49c2-b32d-14c5fe4237a1",
   "metadata": {
    "tags": []
   },
   "outputs": [
    {
     "name": "stdout",
     "output_type": "stream",
     "text": [
      "MASTER S\n"
     ]
    }
   ],
   "source": [
    "builder = pyocr.builders.TextBuilder(tesseract_layout=6)\n",
    "builder.tesseract_configs.append(\"-c\")\n",
    "builder.tesseract_configs.append(\"tessedit_char_whitelist=\\\"EASYNORMLHDXPT\\\"\")\n",
    "data = tool.image_to_string(img2, lang=\"eng\", builder=builder)\n",
    "print(data)"
   ]
  },
  {
   "cell_type": "code",
   "execution_count": 154,
   "id": "8c7225fd-723e-48ee-9283-f04262bedc26",
   "metadata": {
    "tags": []
   },
   "outputs": [
    {
     "data": {
      "image/png": "[encoded data removed]",
      "text/plain": [
       "<PIL.Image.Image image mode=RGBA size=1080x231>"
      ]
     },
     "execution_count": 154,
     "metadata": {},
     "output_type": "execute_result"
    }
   ],
   "source": [
    "img2"
   ]
  },
  {
   "cell_type": "markdown",
   "id": "4d795649-066d-4204-a0b1-637b7c0aaca7",
   "metadata": {
    "tags": []
   },
   "source": [
    "EASY = 134,219,68\n",
    "NORMAL = 94,184,232\n",
    "HARD = 244,175,61\n",
    "EXPERT = 205,91,103\n",
    "MASTER = 172,62,230"
   ]
  },
  {
   "cell_type": "code",
   "execution_count": 155,
   "id": "3212e651-9501-43c8-810f-86c50c021dea",
   "metadata": {
    "tags": []
   },
   "outputs": [
    {
     "name": "stdout",
     "output_type": "stream",
     "text": [
      "0.3333333333333333 EASY\n",
      "0.2857142857142857 NORMAL\n",
      "0.3333333333333333 HARD\n",
      "0.2857142857142857 EXPERT\n",
      "0.8571428571428571 MASTER\n",
      "\n",
      "{'credibility': 0.8571428571428571, 'difficult': 'MASTER'}\n"
     ]
    }
   ],
   "source": [
    "difficults = [\"EASY\",\"NORMAL\",\"HARD\",\"EXPERT\",\"MASTER\"]\n",
    "\n",
    "difficult= {\"credibility\":0,\"difficult\":\"\"}\n",
    "\n",
    "for j in difficults:\n",
    "    result = difflib.SequenceMatcher(None, data, j).ratio()\n",
    "    \n",
    "    print(result,j)\n",
    "\n",
    "    if result > difficult[\"credibility\"]:\n",
    "        difficult[\"difficult\"] = j\n",
    "        difficult[\"credibility\"] = result\n",
    "\n",
    "print(\"\\n\" + str(difficult))"
   ]
  },
  {
   "cell_type": "code",
   "execution_count": null,
   "id": "f2607c06-1ffc-4d47-b714-d9b4db823d69",
   "metadata": {},
   "outputs": [],
   "source": []
  }
 ],
 "metadata": {
  "kernelspec": {
   "display_name": "Python 3 (ipykernel)",
   "language": "python",
   "name": "python3"
  },
  "language_info": {
   "codemirror_mode": {
    "name": "ipython",
    "version": 3
   },
   "file_extension": ".py",
   "mimetype": "text/x-python",
   "name": "python",
   "nbconvert_exporter": "python",
   "pygments_lexer": "ipython3",
   "version": "3.10.9"
  }
 },
 "nbformat": 4,
 "nbformat_minor": 5
}
