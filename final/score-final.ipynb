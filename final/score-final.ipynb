{
 "cells": [
  {
   "cell_type": "code",
   "execution_count": 2,
   "id": "ef357932-d227-4f63-a490-1d3004f018a0",
   "metadata": {
    "tags": []
   },
   "outputs": [],
   "source": [
    "import os\n",
    "import time\n",
    "from PIL import Image\n",
    "import pyocr\n",
    "import numpy as np\n",
    "import pyocr.builders\n",
    "import matplotlib.pyplot as plt\n",
    "import math"
   ]
  },
  {
   "cell_type": "code",
   "execution_count": 3,
   "id": "8151ace7-d911-428a-88f9-21a8300d3b72",
   "metadata": {
    "tags": []
   },
   "outputs": [],
   "source": [
    "path_tesseract = \"C:\\\\Program Files\\\\Tesseract-OCR\"\n",
    "if path_tesseract not in os.environ[\"PATH\"].split(os.pathsep):\n",
    "    os.environ[\"PATH\"] += os.pathsep + path_tesseract\n",
    "\n",
    "tools = pyocr.get_available_tools()\n",
    "tool = tools[0]"
   ]
  },
  {
   "cell_type": "code",
   "execution_count": 4,
   "id": "4b3ba65a-2546-47d9-bf68-92460e62dea4",
   "metadata": {
    "tags": []
   },
   "outputs": [],
   "source": [
    "targets = [\"normal\", \"wide\", \"fastlate\"]"
   ]
  },
  {
   "cell_type": "code",
   "execution_count": 5,
   "id": "6c5ce286-a32b-476f-bb50-4c3d049ef8a0",
   "metadata": {
    "tags": []
   },
   "outputs": [],
   "source": [
    "def score(target):\n",
    "    img = Image.open(\"../targets/\" + target + \".png\")\n",
    "    rgb_img = img.convert('RGB')\n",
    "    size = rgb_img.size\n",
    "\n",
    "    crop_img = rgb_img.crop([0, size[1]/6, size[0]/2, size[1]/2])\n",
    "    crop_size = crop_img.size\n",
    "\n",
    "    img2 = Image.new('RGBA',crop_size)\n",
    "\n",
    "    for x in range(crop_size[0]):\n",
    "        for y in range(crop_size[1]):\n",
    "            r,g,b = crop_img.getpixel((x,y))\n",
    "\n",
    "            if 225 <= r <= 255 and 55 <= g <= 115 and 140 <= b <= 200:\n",
    "                g = 0\n",
    "            else:\n",
    "                g = 255\n",
    "\n",
    "            img2.putpixel((x,y),(g,g,g,255))\n",
    "\n",
    "    builder = pyocr.builders.TextBuilder(tesseract_layout=7)\n",
    "    result = tool.image_to_string(img2, lang=\"eng\", builder=builder)\n",
    "    print(target + \": \" + result)"
   ]
  },
  {
   "cell_type": "code",
   "execution_count": 6,
   "id": "b3da7492-eebc-408d-87df-85b0c290adfe",
   "metadata": {
    "tags": []
   },
   "outputs": [
    {
     "name": "stdout",
     "output_type": "stream",
     "text": [
      "normal: 1161441\n",
      "normal: 1.4562775999947917\n",
      "wide: 596068\n",
      "wide: 2.5128708999836817\n",
      "fastlate: 1504818\n",
      "fastlate: 3.3535256999894045\n",
      "avg: 1.1178821999928914\n"
     ]
    }
   ],
   "source": [
    "start = time.perf_counter()\n",
    "for target in targets:\n",
    "    score(target)\n",
    "    print(target  \": \" + str(time.perf_counter() - start))\n",
    "print(\"avg: \" + str((time.perf_counter() - start) / 3))"
   ]
  },
  {
   "cell_type": "raw",
   "id": "6f437ee3-99de-4f1f-a69b-795c6a6302d9",
   "metadata": {},
   "source": [
    "psm\n",
    "\n",
    "10%-20M\n",
    "\n",
    "0  - TesseractError\n",
    "1  - Good\n",
    "2  - TesseractError\n",
    "3  - Good\n",
    "4  - Good\n",
    "5  - Bad\n",
    "6  - Good\n",
    "7  - Good\n",
    "8  - Bad\n",
    "9  - fastlate only Bad (another Good)\n",
    "10 - Good\n",
    "11 - Good\n",
    "12 - Good\n",
    "13 - Bad"
   ]
  },
  {
   "cell_type": "raw",
   "id": "d14b9997-6401-460b-afe1-a9ab4c1f2ad4",
   "metadata": {},
   "source": [
    "R:255\n",
    "G:85\n",
    "B:170\n",
    "\n",
    "補正が入ると全く反応しなくなる(wideとnormalはできた)\n",
    "\n",
    "±20 -> 誤認識しか無い\n",
    "±25 -> 認識できるけど、結構きわどそう\n",
    "±30 -> そこそこ安心"
   ]
  }
 ],
 "metadata": {
  "kernelspec": {
   "display_name": "Python 3 (ipykernel)",
   "language": "python",
   "name": "python3"
  },
  "language_info": {
   "codemirror_mode": {
    "name": "ipython",
    "version": 3
   },
   "file_extension": ".py",
   "mimetype": "text/x-python",
   "name": "python",
   "nbconvert_exporter": "python",
   "pygments_lexer": "ipython3",
   "version": "3.10.9"
  }
 },
 "nbformat": 4,
 "nbformat_minor": 5
}
