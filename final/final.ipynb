{
 "cells": [
  {
   "cell_type": "code",
   "execution_count": 1,
   "metadata": {},
   "outputs": [],
   "source": [
    "import math\n",
    "import cv2\n",
    "import matplotlib.pyplot as plt"
   ]
  },
  {
   "cell_type": "code",
   "execution_count": 2,
   "metadata": {},
   "outputs": [],
   "source": [
    "def bubble_sort(arr):\n",
    "  change = True\n",
    "  while change:\n",
    "    change = False\n",
    "    for i in range(len(arr) - 1):\n",
    "      if arr[i].distance > arr[i + 1].distance:\n",
    "        arr[i].distance, arr[i + 1].distance = arr[i + 1].distance, arr[i].distance\n",
    "        change = True\n",
    "  return arr"
   ]
  },
  {
   "cell_type": "code",
   "execution_count": 3,
   "metadata": {},
   "outputs": [],
   "source": [
    "def get_distance(x1, y1, x2, y2):\n",
    "    d = math.sqrt((x2 - x1) ** 2 + (y2 - y1) ** 2)\n",
    "    return d"
   ]
  },
  {
   "cell_type": "code",
   "execution_count": 12,
   "metadata": {},
   "outputs": [],
   "source": [
    "def get_ratio(search_content_path, search_target_path):\n",
    "  search_content = cv2.cvtColor(cv2.imread(search_content_path), cv2.COLOR_BGR2RGB)\n",
    "  search_target = cv2.cvtColor(cv2.imread(search_target_path), cv2.COLOR_BGR2RGB)\n",
    "\n",
    "  akaze = cv2.AKAZE_create()                                \n",
    "\n",
    "  kp1, des1 = akaze.detectAndCompute(cv2.cvtColor(search_content,cv2.COLOR_BGR2GRAY) , None)\n",
    "  kp2, des2 = akaze.detectAndCompute(cv2.cvtColor(search_target,cv2.COLOR_BGR2GRAY) , None)\n",
    "\n",
    "  bf = cv2.BFMatcher()\n",
    "\n",
    "  matches = bf.knnMatch(des1, des2, k=2)\n",
    "\n",
    "  ratio = 0.75\n",
    "  good2 = []\n",
    "  for m, n in matches:\n",
    "      if m.distance < ratio * n.distance:\n",
    "          good2.append(m)\n",
    "\n",
    "  good2 = bubble_sort(good2)\n",
    "\n",
    "  distance_content = get_distance(\n",
    "      x1=kp1[good2[0].queryIdx].pt[0],\n",
    "      y1=kp1[good2[0].queryIdx].pt[1],\n",
    "      x2=kp1[good2[1].queryIdx].pt[0],\n",
    "      y2=kp1[good2[1].queryIdx].pt[1]\n",
    "  )\n",
    "\n",
    "  distance_target = get_distance(\n",
    "      x1=kp2[good2[0].trainIdx].pt[0],\n",
    "      y1=kp2[good2[0].trainIdx].pt[1],\n",
    "      x2=kp2[good2[1].trainIdx].pt[0],\n",
    "      y2=kp2[good2[1].trainIdx].pt[1]\n",
    "  )\n",
    "\n",
    "  # Magnification factor to match DPI\n",
    "  return {'search_content': 1, 'search_target': 1 / (distance_target / distance_content)}"
   ]
  },
  {
   "cell_type": "code",
   "execution_count": 16,
   "metadata": {},
   "outputs": [
    {
     "data": {
      "text/plain": [
       "{'search_content': 1, 'search_target': 1.6069411370252595}"
      ]
     },
     "execution_count": 16,
     "metadata": {},
     "output_type": "execute_result"
    }
   ],
   "source": [
    "get_ratio(search_content_path='./img2.png', search_target_path='../targets/wide.png')"
   ]
  }
 ],
 "metadata": {
  "kernelspec": {
   "display_name": "venv",
   "language": "python",
   "name": "python3"
  },
  "language_info": {
   "codemirror_mode": {
    "name": "ipython",
    "version": 3
   },
   "file_extension": ".py",
   "mimetype": "text/x-python",
   "name": "python",
   "nbconvert_exporter": "python",
   "pygments_lexer": "ipython3",
   "version": "3.10.9"
  },
  "orig_nbformat": 4
 },
 "nbformat": 4,
 "nbformat_minor": 2
}
