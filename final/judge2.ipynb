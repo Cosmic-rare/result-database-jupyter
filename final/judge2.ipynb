{
 "cells": [
  {
   "cell_type": "code",
   "execution_count": 3,
   "metadata": {},
   "outputs": [],
   "source": [
    "from templateMatch import get_point\n",
    "from PIL import Image\n",
    "import matplotlib.pyplot as plt\n",
    "import cv2\n",
    "import os\n",
    "import pyocr\n",
    "import pyocr.builders"
   ]
  },
  {
   "cell_type": "code",
   "execution_count": 4,
   "metadata": {},
   "outputs": [],
   "source": [
    "path_tesseract = \"C:\\\\Program Files\\\\Tesseract-OCR\"\n",
    "if path_tesseract not in os.environ[\"PATH\"].split(os.pathsep):\n",
    "    os.environ[\"PATH\"] += os.pathsep + path_tesseract\n",
    "\n",
    "tools = pyocr.get_available_tools()\n",
    "tool = tools[0]\n",
    "\n",
    "builder = pyocr.builders.TextBuilder(tesseract_layout=7)\n",
    "builder.tesseract_configs.append(\"-c\")\n",
    "builder.tesseract_configs.append('tessedit_char_whitelist=\"0123456789\"')"
   ]
  },
  {
   "cell_type": "code",
   "execution_count": 12,
   "metadata": {},
   "outputs": [
    {
     "name": "stdout",
     "output_type": "stream",
     "text": [
      "958\n",
      "9\n",
      "0\n",
      "0\n",
      "0\n"
     ]
    }
   ],
   "source": [
    "search_content = cv2.cvtColor(cv2.imread('../targets/img2.png'), cv2.COLOR_BGR2RGB)\n",
    "search_target = cv2.cvtColor(cv2.imread('../targets/normal.png'), cv2.COLOR_BGR2RGB)\n",
    "\n",
    "res = get_point(face_img=search_content, full_img=search_target)\n",
    "point = res[\"number\"]\n",
    "\n",
    "img = search_target[\n",
    "  point['top'] : point['bottom'],\n",
    "  point['left'] : point['right']\n",
    "]\n",
    "\n",
    "judges = ['PERFECT', 'GREAT', 'GOOD', 'BAD', 'MISS']\n",
    "\n",
    "border = 215\n",
    "\n",
    "hight = img.shape[0] // 5\n",
    "\n",
    "for i in range(len(judges)):\n",
    "  cropped_img = img[hight * i : hight * (i + 1), 0 : img.shape[1]]\n",
    "\n",
    "  for y in range(cropped_img.shape[0]):\n",
    "    for x in range(cropped_img.shape[1]):\n",
    "      r, g, b = cropped_img[y][x]\n",
    "\n",
    "      if r >= border and g >= border and b >= border:\n",
    "        a = 0\n",
    "      else:\n",
    "        a = 255\n",
    "      cropped_img[y][x][0] = a\n",
    "      cropped_img[y][x][1] = a\n",
    "      cropped_img[y][x][2] = a\n",
    "\n",
    "  print(tool.image_to_string(Image.fromarray(cropped_img), lang=\"eng\", builder=builder))"
   ]
  }
 ],
 "metadata": {
  "kernelspec": {
   "display_name": "venv",
   "language": "python",
   "name": "python3"
  },
  "language_info": {
   "codemirror_mode": {
    "name": "ipython",
    "version": 3
   },
   "file_extension": ".py",
   "mimetype": "text/x-python",
   "name": "python",
   "nbconvert_exporter": "python",
   "pygments_lexer": "ipython3",
   "version": "3.10.9"
  },
  "orig_nbformat": 4
 },
 "nbformat": 4,
 "nbformat_minor": 2
}
