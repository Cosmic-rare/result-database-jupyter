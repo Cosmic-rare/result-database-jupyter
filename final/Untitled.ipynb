{
 "cells": [
  {
   "cell_type": "code",
   "execution_count": 1,
   "id": "e19b10a1-1da6-4c75-9ba7-818018aac60a",
   "metadata": {
    "tags": []
   },
   "outputs": [],
   "source": [
    "data = [\"EASY\",\"NORMAL\",\"HARD\",\"EXPERT\",\"MASTER\"]\n",
    "datata = []"
   ]
  },
  {
   "cell_type": "code",
   "execution_count": 2,
   "id": "a501c7a8-07fe-4317-80f1-126e5457a500",
   "metadata": {
    "tags": []
   },
   "outputs": [],
   "source": [
    "for i in data:\n",
    "    for j in i:\n",
    "        if j in datata:\n",
    "            pass\n",
    "        else:\n",
    "            datata.append(j)"
   ]
  },
  {
   "cell_type": "code",
   "execution_count": 3,
   "id": "54fe0e4d-a927-46ad-8c96-f2df0d670d62",
   "metadata": {
    "tags": []
   },
   "outputs": [
    {
     "name": "stdout",
     "output_type": "stream",
     "text": [
      "EASYNORMLHDXPT"
     ]
    }
   ],
   "source": [
    "for k in  datata:\n",
    "    print(k,end=\"\")"
   ]
  }
 ],
 "metadata": {
  "kernelspec": {
   "display_name": "Python 3 (ipykernel)",
   "language": "python",
   "name": "python3"
  },
  "language_info": {
   "codemirror_mode": {
    "name": "ipython",
    "version": 3
   },
   "file_extension": ".py",
   "mimetype": "text/x-python",
   "name": "python",
   "nbconvert_exporter": "python",
   "pygments_lexer": "ipython3",
   "version": "3.10.9"
  }
 },
 "nbformat": 4,
 "nbformat_minor": 5
}
