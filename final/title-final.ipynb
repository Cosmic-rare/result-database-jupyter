{
 "cells": [
  {
   "cell_type": "code",
   "execution_count": 8,
   "id": "ef357932-d227-4f63-a490-1d3004f018a0",
   "metadata": {
    "tags": []
   },
   "outputs": [],
   "source": [
    "import os\n",
    "from PIL import Image\n",
    "import pyocr\n",
    "import numpy as np\n",
    "import pyocr.builders\n",
    "import matplotlib.pyplot as plt\n",
    "import math\n",
    "import difflib\n",
    "import json\n",
    "import time"
   ]
  },
  {
   "cell_type": "code",
   "execution_count": 2,
   "id": "a856cda2-4754-4648-998f-d8c896c9469b",
   "metadata": {
    "tags": []
   },
   "outputs": [],
   "source": [
    "path_tesseract = \"C:\\\\Program Files\\\\Tesseract-OCR\"\n",
    "if path_tesseract not in os.environ[\"PATH\"].split(os.pathsep):\n",
    "    os.environ[\"PATH\"] += os.pathsep + path_tesseract\n",
    "\n",
    "tools = pyocr.get_available_tools()\n",
    "tool = tools[0]"
   ]
  },
  {
   "cell_type": "code",
   "execution_count": 3,
   "id": "4b3ba65a-2546-47d9-bf68-92460e62dea4",
   "metadata": {
    "tags": []
   },
   "outputs": [],
   "source": [
    "targets = [\"normal\", \"wide\", \"fastlate\"]\n",
    "border = 215"
   ]
  },
  {
   "cell_type": "code",
   "execution_count": 22,
   "id": "5142fda6-fe8b-4bdb-a92a-a37da7fa05ca",
   "metadata": {
    "tags": []
   },
   "outputs": [],
   "source": [
    "def title(target):\n",
    "    img = Image.open(\"../targets/\" + target + \".png\")\n",
    "    \n",
    "    data = {\"6\":\"\",\"11\":\"\"}\n",
    "    \n",
    "    rgb_img = img.convert('RGB')\n",
    "    size = rgb_img.size\n",
    "    \n",
    "    crop_img = rgb_img.crop([0, 0, size[0]/2, size[1]/7])\n",
    "    crop_size = crop_img.size\n",
    "    \n",
    "    img2 = Image.new('RGBA',crop_size)\n",
    "    \n",
    "    for x in range(crop_size[0]):\n",
    "        for y in range(crop_size[1]):\n",
    "            r,g,b = crop_img.getpixel((x,y))\n",
    "\n",
    "            if r >= border and g >= border and b >= border:\n",
    "                a = 255\n",
    "            else:\n",
    "                a = 0\n",
    "\n",
    "            img2.putpixel((x,y),(a,a,a,255))\n",
    "    \n",
    "    crop_range = img2.convert('RGB').getbbox()\n",
    "    # print(crop_range[1])\n",
    "    img3 = img2.crop([crop_range[0],crop_range[1]-5,crop_range[2],(crop_range[3]) / 2])\n",
    "    \n",
    "    builder6 = pyocr.builders.TextBuilder(tesseract_layout=6)\n",
    "    builder11 = pyocr.builders.TextBuilder(tesseract_layout=11)\n",
    "    data[\"6\"] = tool.image_to_string(img3, lang=\"jpn\", builder=builder6)\n",
    "    data[\"11\"] = tool.image_to_string(img3, lang=\"jpn\", builder=builder11)\n",
    "    \n",
    "    return data"
   ]
  },
  {
   "cell_type": "code",
   "execution_count": 27,
   "id": "3212e651-9501-43c8-810f-86c50c021dea",
   "metadata": {
    "tags": []
   },
   "outputs": [],
   "source": [
    "def check (target):\n",
    "    with open('../targets/tmp.json', encoding=\"utf-8\") as f1:\n",
    "        music = json.load(f1)\n",
    "\n",
    "        data = {}\n",
    "\n",
    "        for j in music:\n",
    "            result = difflib.SequenceMatcher(None, target, j[\"title\"]).ratio()\n",
    "\n",
    "            if result > 0.6:\n",
    "                data = ({\"title\":j[\"title\"], \"result\":result})\n",
    "\n",
    "        return data"
   ]
  },
  {
   "cell_type": "code",
   "execution_count": 29,
   "id": "02ff4ad2-5db1-4421-b6b9-d2dcb5b77c5f",
   "metadata": {
    "tags": []
   },
   "outputs": [
    {
     "name": "stdout",
     "output_type": "stream",
     "text": [
      "{'6': '', '11': 'プリキノダンス'}\n",
      "{}\n",
      "{'title': 'ブリキノダンス', 'result': 0.8571428571428571}\n",
      "normal: 1.0395023000019137\n",
      "\n",
      "{'6': 'Brand New Day', '11': 'Brand New Day'}\n",
      "{'title': 'Brand New Day', 'result': 1.0}\n",
      "{'title': 'Brand New Day', 'result': 1.0}\n",
      "wide: 1.9573239000164904\n",
      "\n",
      "{'6': '軸 てT  ほくらの16bit戦争', '11': '9)\\n\\nと\\n\\nほくらの16bit戦争'}\n",
      "{'title': 'ぼくらの16bit戦争', 'result': 0.7142857142857143}\n",
      "{'title': 'ぼくらの16bit戦争', 'result': 0.6896551724137931}\n",
      "fastlate: 2.7936568000004627\n",
      "\n",
      "avg: 0.9312537666701246\n"
     ]
    }
   ],
   "source": [
    "start = time.perf_counter()\n",
    "for target in targets:\n",
    "    data = title(target)\n",
    "    print(data)\n",
    "    print(check(data[\"6\"]))\n",
    "    print(check(data[\"11\"]))\n",
    "    print(target + \": \" + str(time.perf_counter() - start) + \"\\n\")\n",
    "print(\"avg: \" + str((time.perf_counter() - start) / 3))"
   ]
  }
 ],
 "metadata": {
  "kernelspec": {
   "display_name": "Python 3 (ipykernel)",
   "language": "python",
   "name": "python3"
  },
  "language_info": {
   "codemirror_mode": {
    "name": "ipython",
    "version": 3
   },
   "file_extension": ".py",
   "mimetype": "text/x-python",
   "name": "python",
   "nbconvert_exporter": "python",
   "pygments_lexer": "ipython3",
   "version": "3.10.9"
  }
 },
 "nbformat": 4,
 "nbformat_minor": 5
}
