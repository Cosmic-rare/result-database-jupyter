{
 "cells": [
  {
   "cell_type": "code",
   "execution_count": 5,
   "id": "b012e8ad-521e-448b-9c57-a56ed4be2af4",
   "metadata": {
    "tags": []
   },
   "outputs": [
    {
     "name": "stdout",
     "output_type": "stream",
     "text": [
      "Requirement already satisfied: wheel in c:\\users\\tani\\appdata\\local\\programs\\python\\python310\\lib\\site-packages (0.38.4)\n"
     ]
    }
   ],
   "source": [
    "!pip install wheel"
   ]
  },
  {
   "cell_type": "code",
   "execution_count": 6,
   "id": "45ac09a7-c0ec-4769-87f5-8ad7613daa79",
   "metadata": {
    "tags": []
   },
   "outputs": [
    {
     "name": "stdout",
     "output_type": "stream",
     "text": [
      "Requirement already satisfied: pyocr in c:\\users\\tani\\appdata\\local\\programs\\python\\python310\\lib\\site-packages (0.8.3)\n",
      "Requirement already satisfied: Pillow in c:\\users\\tani\\appdata\\local\\programs\\python\\python310\\lib\\site-packages (from pyocr) (9.4.0)\n"
     ]
    }
   ],
   "source": [
    "!pip install pyocr"
   ]
  },
  {
   "cell_type": "code",
   "execution_count": 7,
   "id": "3a8074ad-5472-47fb-90e5-7428a4f0a03d",
   "metadata": {
    "tags": []
   },
   "outputs": [],
   "source": [
    "import os\n",
    "from PIL import Image\n",
    "import pyocr\n",
    "import pyocr.builders"
   ]
  },
  {
   "cell_type": "code",
   "execution_count": 8,
   "id": "3101f53c-f29c-4766-9a22-77740fcdc945",
   "metadata": {
    "tags": []
   },
   "outputs": [],
   "source": [
    "path_tesseract = \"C:\\\\Program Files\\\\Tesseract-OCR\"\n",
    "if path_tesseract not in os.environ[\"PATH\"].split(os.pathsep):\n",
    "    os.environ[\"PATH\"] += os.pathsep + path_tesseract"
   ]
  },
  {
   "cell_type": "code",
   "execution_count": 15,
   "id": "f32a6393-82cb-4ae7-9da7-03356efc8abe",
   "metadata": {
    "tags": []
   },
   "outputs": [],
   "source": [
    "tools = pyocr.get_available_tools()\n",
    "tool = tools[0]"
   ]
  },
  {
   "cell_type": "code",
   "execution_count": 10,
   "id": "631bfd70-3cce-48a7-953e-f0a7b56e67b3",
   "metadata": {
    "tags": []
   },
   "outputs": [],
   "source": [
    "img_org = Image.open(\"./ocr-test.png\")"
   ]
  },
  {
   "cell_type": "code",
   "execution_count": 13,
   "id": "d563c1da-5b73-48b5-9709-9ebf151eb90a",
   "metadata": {
    "tags": []
   },
   "outputs": [],
   "source": [
    "builder = pyocr.builders.TextBuilder()\n",
    "result = tool.image_to_string(img_org, lang=\"jpn\", builder=builder)"
   ]
  },
  {
   "cell_type": "code",
   "execution_count": 14,
   "id": "2098608d-e411-4b6f-a5c2-3aed805efac1",
   "metadata": {
    "tags": []
   },
   "outputs": [
    {
     "name": "stdout",
     "output_type": "stream",
     "text": [
      "番号 AB12345678CD\n",
      "\n",
      "これは OCR テスト用のテキストです。\n",
      "\n",
      "吾王は猫である。名前はまだない。\n",
      "\n",
      "どこで生れたか号 (とん) と見当がつかぬ。 何でも薄暗いじめじめした所でニャーニャ\n",
      "一泣いていた事だけは記憶している。吾琶はここで始めて人間というものを見た。しかも\n",
      "あとで聞くとそれは書生という人間中で一番導悪 (どうあく) な種族であったそうだ。こ\n",
      "の書生というのは時々我々を捕 (つかま) えて煮て食うという話である。 しかしその当時\n",
      "は何という考 (かんがえ) もなかったから別段私しいとも思わなかった。ただ彼の告 (て\n",
      "のひら) に載せられてスーと持ち上げられた時何だかフワフワした感じがあったばかりで\n",
      "ある。堂の上で少し落ち付いて書生の顔を見たのがいわゆる人間というものの見始 (みは\n",
      "しじめ) であろう。 この時妙なものだと思った感じが今でも残っている。第一毛を以て装飾\n",
      "されべきはずの顔がつるつるしてまるで抹缶 (やかん) だ。その後猫にも大分逢 (あ) っ\n",
      "たがこんな片輪には一度も出会 (でく) わした事がない。のみならず顔の真中が余りに突\n",
      "起している。そう してその穴の中から時々誠ううと畑 (けむり) を吹く。どうも咽 (お)\n",
      "せぼぽくて実に弱った。これが人間の飲む畑草 (タバコ) というものである事は河 (ようや)\n",
      "くこの頃 (ごろ) 知った。\n"
     ]
    }
   ],
   "source": [
    "print(result)"
   ]
  },
  {
   "cell_type": "code",
   "execution_count": null,
   "id": "c94ae729-fa85-4224-a271-a9f075babf5f",
   "metadata": {},
   "outputs": [],
   "source": []
  }
 ],
 "metadata": {
  "kernelspec": {
   "display_name": "Python 3 (ipykernel)",
   "language": "python",
   "name": "python3"
  },
  "language_info": {
   "codemirror_mode": {
    "name": "ipython",
    "version": 3
   },
   "file_extension": ".py",
   "mimetype": "text/x-python",
   "name": "python",
   "nbconvert_exporter": "python",
   "pygments_lexer": "ipython3",
   "version": "3.10.9"
  }
 },
 "nbformat": 4,
 "nbformat_minor": 5
}
