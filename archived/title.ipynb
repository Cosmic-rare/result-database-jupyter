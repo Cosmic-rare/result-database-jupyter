{
 "cells": [
  {
   "cell_type": "raw",
   "id": "04d20d54-be4e-4e28-8aaf-e385da722e59",
   "metadata": {},
   "source": [
    "11 \"プリキノダンス\"\n",
    "6  \"\"\n",
    "\n",
    "11 \"Brand New Day\"\n",
    "6  \"Brand New Day\"\n",
    "\n",
    "11 \"ほくらの16bit戦争\"\n",
    "6  \"軸 てT  ほくらの16bit戦争"
   ]
  },
  {
   "cell_type": "code",
   "execution_count": 3,
   "id": "7ac94d89-b0c2-4259-a924-061a9fe4df82",
   "metadata": {
    "tags": []
   },
   "outputs": [
    {
     "name": "stdout",
     "output_type": "stream",
     "text": [
      "{'title': 'ブリキノダンス', 'result': 0.8571428571428571}\n",
      "{'title': 'n/a', 'result': 0}\n",
      "{'title': 'Brand New Day', 'result': 1.0}\n",
      "{'title': 'Brand New Day', 'result': 1.0}\n",
      "{'title': 'ぼくらの16bit戦争', 'result': 0.9090909090909091}\n",
      "{'title': 'ぼくらの16bit戦争', 'result': 0.7142857142857143}\n"
     ]
    }
   ],
   "source": [
    "import difflib\n",
    "import json\n",
    "\n",
    "texts = [\"プリキノダンス\",\"\",\"Brand New Day\",\"Brand New Day\",\"ほくらの16bit戦争\",\"軸 てT  ほくらの16bit戦争\"]\n",
    "\n",
    "with open('tmp.json', encoding=\"utf-8\") as f1:\n",
    "    music = json.load(f1)\n",
    "    \n",
    "    for i in range(len(texts)):\n",
    "        data = {\"title\":\"n/a\",\"result\":0}\n",
    "        for j in music:\n",
    "            result = difflib.SequenceMatcher(None, texts[i], j[\"title\"]).ratio()\n",
    "            \n",
    "            if result == 0:\n",
    "                pass\n",
    "            elif result >= data[\"result\"]:\n",
    "                data[\"title\"] = j[\"title\"]\n",
    "                data[\"result\"] = result\n",
    "        print(data)"
   ]
  },
  {
   "cell_type": "code",
   "execution_count": 16,
   "id": "8da6fff6-8ee3-47c5-9531-e82faa11387a",
   "metadata": {
    "tags": []
   },
   "outputs": [
    {
     "name": "stdout",
     "output_type": "stream",
     "text": [
      "ブリキノダンス\n",
      "Brand New Day\n",
      "Brand New Day\n",
      "ぼくらの16bit戦争\n",
      "ぼくらの16bit戦争\n"
     ]
    }
   ],
   "source": [
    "import difflib\n",
    "import json\n",
    "\n",
    "texts = [\"プリキノダンス\",\"\",\"Brand New Day\",\"Brand New Day\",\"ほくらの16bit戦争\",\"軸 てT  ほくらの16bit戦争\"]\n",
    "\n",
    "with open('tmp.json', encoding=\"utf-8\") as f1:\n",
    "    music = json.load(f1)\n",
    "    \n",
    "    for i in range(len(texts)):\n",
    "        for j in music:\n",
    "            result = difflib.SequenceMatcher(None, texts[i], j[\"title\"]).ratio()\n",
    "            \n",
    "            if result > 0.6:\n",
    "                print(j[\"title\"])"
   ]
  },
  {
   "cell_type": "code",
   "execution_count": null,
   "id": "dc7cd793-ace1-4f6e-b897-9219ee3eb96a",
   "metadata": {},
   "outputs": [],
   "source": []
  }
 ],
 "metadata": {
  "kernelspec": {
   "display_name": "Python 3 (ipykernel)",
   "language": "python",
   "name": "python3"
  },
  "language_info": {
   "codemirror_mode": {
    "name": "ipython",
    "version": 3
   },
   "file_extension": ".py",
   "mimetype": "text/x-python",
   "name": "python",
   "nbconvert_exporter": "python",
   "pygments_lexer": "ipython3",
   "version": "3.10.9"
  }
 },
 "nbformat": 4,
 "nbformat_minor": 5
}
