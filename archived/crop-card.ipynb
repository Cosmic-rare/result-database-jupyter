{
 "cells": [
  {
   "cell_type": "code",
   "execution_count": 2,
   "id": "ce727da7-a067-4ba4-9b46-b015676f56f0",
   "metadata": {
    "tags": []
   },
   "outputs": [],
   "source": [
    "import os\n",
    "from PIL import Image\n",
    "import pyocr\n",
    "import pyocr.builders"
   ]
  },
  {
   "cell_type": "code",
   "execution_count": 5,
   "id": "55b97a62-9060-433e-9c94-f7cf39af4117",
   "metadata": {
    "tags": []
   },
   "outputs": [],
   "source": [
    "path_tesseract = \"C:\\\\Program Files\\\\Tesseract-OCR\"\n",
    "if path_tesseract not in os.environ[\"PATH\"].split(os.pathsep):\n",
    "    os.environ[\"PATH\"] += os.pathsep + path_tesseract"
   ]
  },
  {
   "cell_type": "code",
   "execution_count": 6,
   "id": "df4f5e95-2f56-467b-8931-ed0856cb34d3",
   "metadata": {
    "tags": []
   },
   "outputs": [],
   "source": [
    "tools = pyocr.get_available_tools()\n",
    "tool = tools[0]"
   ]
  },
  {
   "cell_type": "code",
   "execution_count": 20,
   "id": "08d20cae-1a11-4706-8ccc-1689cb03cffa",
   "metadata": {
    "tags": []
   },
   "outputs": [],
   "source": [
    "img_org = Image.open(\"./zairyucard_omote.jpg\")\n",
    "img_box = img_org.crop((770, 40, 1100, 90))\n",
    "img_rgb = img_box.convert(\"RGB\")\n",
    "pixels = img_rgb.load()"
   ]
  },
  {
   "cell_type": "code",
   "execution_count": 21,
   "id": "472e539c-aba7-4bce-9a6d-ddab668201f2",
   "metadata": {
    "tags": []
   },
   "outputs": [],
   "source": [
    "c_max = 169\n",
    "for j in range(img_rgb.size[1]):\n",
    "    for i in range(img_rgb.size[0]):\n",
    "        if (pixels[i, j][0] > c_max or pixels[i, j][1] > c_max or\n",
    "                pixels[i, j][0] > c_max):\n",
    "            pixels[i, j] = (255, 255, 255)"
   ]
  },
  {
   "cell_type": "code",
   "execution_count": 22,
   "id": "4a3dffb9-7df8-46ef-aaca-1e8c587f0eac",
   "metadata": {
    "tags": []
   },
   "outputs": [],
   "source": [
    "builder = pyocr.builders.TextBuilder()\n",
    "result = tool.image_to_string(img_rgb, lang=\"jpn\", builder=builder)"
   ]
  },
  {
   "cell_type": "code",
   "execution_count": 23,
   "id": "5d7011cf-5262-45a6-bcb9-b8d14fa2292b",
   "metadata": {
    "tags": []
   },
   "outputs": [
    {
     "name": "stdout",
     "output_type": "stream",
     "text": [
      "番号  AB12345678CD\n"
     ]
    }
   ],
   "source": [
    "print(result)"
   ]
  },
  {
   "cell_type": "code",
   "execution_count": null,
   "id": "2d980fc3-8214-4783-bea2-882940241b13",
   "metadata": {},
   "outputs": [],
   "source": []
  }
 ],
 "metadata": {
  "kernelspec": {
   "display_name": "Python 3 (ipykernel)",
   "language": "python",
   "name": "python3"
  },
  "language_info": {
   "codemirror_mode": {
    "name": "ipython",
    "version": 3
   },
   "file_extension": ".py",
   "mimetype": "text/x-python",
   "name": "python",
   "nbconvert_exporter": "python",
   "pygments_lexer": "ipython3",
   "version": "3.10.9"
  }
 },
 "nbformat": 4,
 "nbformat_minor": 5
}
